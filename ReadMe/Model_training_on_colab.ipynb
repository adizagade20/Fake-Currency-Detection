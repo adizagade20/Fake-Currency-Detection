{
  "nbformat": 4,
  "nbformat_minor": 0,
  "metadata": {
    "accelerator": "GPU",
    "colab": {
      "name": "ALL.ipynb",
      "provenance": [],
      "collapsed_sections": [],
      "toc_visible": true
    },
    "kernelspec": {
      "display_name": "Python 3",
      "name": "python3"
    }
  },
  "cells": [
    {
      "cell_type": "code",
      "metadata": {
        "id": "-9rjWn4Rh_Kv"
      },
      "source": [
        "from google.colab import drive\n",
        "drive.mount('/content/drive')\n",
        " \n",
        " \n",
        " \n",
        "%cd /content\n",
        "!git clone https://github.com/tensorflow/models.git\n",
        " \n",
        " \n",
        " \n",
        "dir_name = \"all2\"\n",
        " \n",
        "x_train   = \"/content/drive/MyDrive/tf/workspace/training_demo/images/\" + dir_name + \"/train\"\n",
        "x_test    = \"/content/drive/MyDrive/tf/workspace/training_demo/images/\" + dir_name + \"/test\"\n",
        "label_map = \"/content/drive/MyDrive/tf/workspace/training_demo/annotations/\" + dir_name + \"/label_map.pbtxt\"\n",
        "o_train   = \"/content/drive/MyDrive/tf/workspace/training_demo/annotations/\" + dir_name + \"/train.record\"\n",
        "o_test    = \"/content/drive/MyDrive/tf/workspace/training_demo/annotations/\" + dir_name + \"/test.record\"\n",
        "c_train   = \"/content/drive/MyDrive/tf/workspace/training_demo/annotations/\" + dir_name + \"/train.csv\"\n",
        "c_test    = \"/content/drive/MyDrive/tf/workspace/training_demo/annotations/\" + dir_name + \"/test.csv\"\n",
        " \n",
        "partition_i = \"/content/drive/MyDrive/Images/all\" # + dir_name\n",
        "partition_o = \"/content/drive/MyDrive/tf/workspace/training_demo/images/\" + dir_name\n",
        " \n",
        "model_dir       = \"/content/drive/MyDrive/tf/workspace/training_demo/trained_models/\" + dir_name\n",
        "pipeline_config = \"/content/drive/MyDrive/tf/workspace/training_demo/models/pipeline_\" + dir_name + \".config\"\n",
        "exporter_output = \"/content/drive/MyDrive/tf/workspace/training_demo/exported-models/\" + dir_name + \"/my_mobilenet_model\"\n",
        "export_tflite_output = \"/content/drive/MyDrive/tf/workspace/training_demo/exported-models/\" + dir_name + \"/my_tflite_model\"\n",
        " \n",
        "trained_checkpoint_dir = \"/content/drive/MyDrive/tf/workspace/training_demo/trained_models/\" + dir_name\n",
        " \n",
        "tflite_output = \"/content/drive/MyDrive/tf/workspace/training_demo/exported-models/\" + dir_name + \"/my_tflite_model\"\n",
        "tflite_model  = \"/content/drive/MyDrive/tf/workspace/training_demo/exported-models/\" + dir_name + \"/my_tflite_model/saved_model\""
      ],
      "execution_count": null,
      "outputs": []
    },
    {
      "cell_type": "code",
      "metadata": {
        "id": "03AqFHopp5dN"
      },
      "source": [
        "# !rm -R /content/drive/MyDrive/tf/workspace/training_demo/images/all2/*\n",
        "# !python /content/drive/MyDrive/tf/scripts/preprocessing/partition_dataset.py -i $partition_i -o $partition_o -x -r 0.2"
      ],
      "execution_count": null,
      "outputs": []
    },
    {
      "cell_type": "code",
      "metadata": {
        "id": "fYaU32T3poBP"
      },
      "source": [
        "import tensorflow as tf\n",
        "import tensorflow_datasets as tfds\n",
        "import os\n",
        "print(tf.__version__)\n",
        " \n",
        "os.environ['PYTHONPATH'] += ':/content/models:/content/models/research:/content/models/research/slim'\n",
        " \n",
        "!pip install protobuf\n",
        "!pip install cython\n",
        "!pip install matplotlib\n",
        "!pip install opencv-contrib-python\n",
        "!pip install git+https://github.com/philferriere/cocoapi.git#subdirectory=PythonAPI"
      ],
      "execution_count": null,
      "outputs": []
    },
    {
      "cell_type": "code",
      "metadata": {
        "id": "7oGpHifQpukt"
      },
      "source": [
        "!cp /content/models/research/object_detection/packages/tf2/setup.py /content/models/research\n",
        "!cp /content/drive/MyDrive/protoc.exe /content/models/research\n",
        " \n",
        "%cd /content/models/research\n",
        "!python -m pip install .\n",
        "!protoc object_detection/protos/*.proto --python_out=."
      ],
      "execution_count": null,
      "outputs": []
    },
    {
      "cell_type": "code",
      "metadata": {
        "id": "qZew_keBpwPt"
      },
      "source": [
        "# %cd /content/drive/MyDrive/tf/\n",
        "# !python scripts/preprocessing/generate_tfrecord.py -x $x_train -l $label_map -o $o_train -c $c_train\n",
        "# !python scripts/preprocessing/generate_tfrecord.py -x $x_test  -l $label_map -o $o_test -c $c_test\n",
        "\n",
        "%cd /content/drive/MyDrive/tf/workspace/training_demo\n",
        "!python model_main_tf2.py --model_dir $model_dir --pipeline_config_path $pipeline_config"
      ],
      "execution_count": null,
      "outputs": []
    },
    {
      "cell_type": "code",
      "metadata": {
        "id": "2nY16QXSpxaH"
      },
      "source": [
        "# %cd /content/drive/MyDrive/tf/workspace/training_demo/\n",
        "\n",
        "# !rm -R /content/drive/MyDrive/tf/workspace/training_demo/exported-models/all/*\n",
        "\n",
        "# !python exporter_main_v2.py --pipeline_config_path $pipeline_config --trained_checkpoint_dir $trained_checkpoint_dir --output_directory $exporter_output --input_type image_tensor\n",
        "# !python export_tflite_graph_tf2.py --pipeline_config_path $pipeline_config --trained_checkpoint_dir $trained_checkpoint_dir --output_directory $export_tflite_output --max_detections 1\n",
        "# !python convert-to-tflite.py --model $tflite_model --output $tflite_output --model_name $dir_name"
      ],
      "execution_count": null,
      "outputs": []
    },
    {
      "cell_type": "markdown",
      "metadata": {
        "id": "oehoxjzNgviv"
      },
      "source": [
        "# Normal  0.70\n",
        "1.   10000  - \n",
        "2.   20000  - \n",
        "3.   30000  - \n",
        "4.   40000  - \n",
        "5.   50000  - \n",
        "6.   60000  - \n",
        "7.   70000  - \n",
        "8.   80000  - \n",
        "9.   90000  - \n",
        "10.  100000 - \n",
        "11.  110000 - \n",
        "12.  120000 - \n",
        "13.  130000 - \n",
        "14.  140000 - \n",
        "15.  150000 - \n",
        "16.  160000 - "
      ]
    }
  ]
}